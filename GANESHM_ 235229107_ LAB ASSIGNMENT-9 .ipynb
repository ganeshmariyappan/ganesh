{
 "cells": [
  {
   "cell_type": "markdown",
   "id": "8fc9d18e",
   "metadata": {},
   "source": [
    "# GANESH M"
   ]
  },
  {
   "cell_type": "markdown",
   "id": "f72b17c6",
   "metadata": {},
   "source": [
    "# <h2>235229107</h2>"
   ]
  },
  {
   "cell_type": "markdown",
   "id": "fac23a10",
   "metadata": {},
   "source": [
    "# <h3> Implementing music play list with Files and LinkedList</h3>"
   ]
  },
  {
   "cell_type": "markdown",
   "id": "2b768ef4",
   "metadata": {},
   "source": [
    "# </h3>step1</h3>:Define a class Song with the following attributes and methods:\n",
    "<h3>Attributes</h3>:\n",
    "<h3>title</h3>:The title of the song\n",
    "<h3>artist</h3>:The artist of the song\n",
    "<h3>next_song</h3>:A reference to the next song in th playlist\n",
    "<h3>Methods</h3>:\n",
    "__init__(self,title,artist):initializes a song object with the given title and artist\n",
    "__str__(self):Rteurns a string representation of the song\n",
    "<h3>step2</h3>:Define a class called playlist with the following attributes and methods:\n",
    "<h3>Attributes</h3>:\n",
    "<h3>head</h3>:A reference to the first song in the playlist\n",
    "<h3>Methods</h3>:\n",
    "1.__init__(self):initializes an empty playlist\n",
    "2.add_song(self,title,artist):Adds a new song to the end of the playlist\n",
    "3.display_playlist(self):Displays the songs in the playlist\n",
    "4.save_palylist(cls,file_name):Loads a playlist from a file and returns a new playlist object\n",
    "5.load_playlist(cls,file_name):Loads a playlist from a file and returns a new playlist object\n",
    "<h3>step3</h3>:Inside the add_song method of the playlist class,create a newsong object with the given title and artist.If the playlist is empty(i.e.,head is None),set the head to the new song.Otherwise,traverse the linked list to the last song and set the next_song reference of the last song to the new song\n",
    "<h3>step4</h3>:Inside the display_playlist method,check if the playlist is empty,print \"playList is empty\".Oherwise,iterate through each song in the palylist and print its string representation usinf the __str__ method of the song class.\n",
    "<h3>step5</h3>:Inside the save_playlist method,check if the playlist is empty.if the playlist is empty,print \"Playlist is empty.Nothing to save\".Otherwise,open the specified file in write mode and iterate through each song in the playlist.Write the title and artist of each song in the playlist.Write the title and artist of each song to a seperate line in the file\n",
    "<h3>step6</h3>:Inside the load_playlist class method,Create a new empty Playlist object.Open the specified file in read mode and iterate through each line.split each line into the line title and artist using the split method.call the add_song method of the Playlist object to add each song to the playlist\n",
    "<h3>step7</h3>:create a new instance of the playlist class named playlist\n",
    "<h3>step8</h3>:Add songs to the playlist using the add_song method.Provide the title and artist to each song as arguments\n",
    "<h3>Step9</h3>:Display the playlist using the display_playlist method\n",
    "<h3>step10</h3>:Save the playlist to a file using the save_playlist method.Provide the file name as an argument\n",
    "<h3>step11</h3>:Create a new instance of the playlist class named new_playlist by loading from a file using the load_playlist class method.Provide the file name as an argument\n",
    "<h3>step12</h3>:Display the new playlist using the display_playlist method\n"
   ]
  },
  {
   "cell_type": "code",
   "execution_count": 3,
   "id": "cc6c55df",
   "metadata": {
    "scrolled": true
   },
   "outputs": [
    {
     "name": "stdout",
     "output_type": "stream",
     "text": [
      "Playlist:\n",
      "Song 1 by Artist 1\n",
      "Song 2 by Artist 2\n",
      "Song 3 by Artist 3\n",
      "Playlist is empty. Nothing to save.\n",
      "\n",
      "New Playlist:\n",
      "Song: Naanum rowdy than by  Artist:Anirudh Ravichander\n",
      "Song:Nenjukulle by  Artist:A.R Rahman\n"
     ]
    }
   ],
   "source": [
    "class Song:\n",
    "    def __init__(self, title, artist):\n",
    "        self.title = title\n",
    "        self.artist = artist\n",
    "        self.next_song = None\n",
    "\n",
    "    def __str__(self):\n",
    "        return f\"{self.title} by {self.artist}\"\n",
    "\n",
    "# Step 2: Define the Playlist class\n",
    "class Playlist:\n",
    "    def __init__(self):\n",
    "        self.head = None\n",
    "\n",
    "    def add_song(self, title, artist):\n",
    "        new_song = Song(title, artist)\n",
    "        if not self.head:\n",
    "            self.head = new_song\n",
    "        else:\n",
    "            current_song = self.head\n",
    "            while current_song.next_song:\n",
    "                current_song = current_song.next_song\n",
    "            current_song.next_song = new_song\n",
    "\n",
    "    def display_playlist(self):\n",
    "        if not self.head:\n",
    "            print(\"Playlist is empty\")\n",
    "        else:\n",
    "            current_song = self.head\n",
    "            while current_song:\n",
    "                print(current_song)\n",
    "                current_song = current_song.next_song\n",
    "\n",
    "    @classmethod\n",
    "    def save_playlist(cls, file_name):\n",
    "        playlist = cls()\n",
    "        if not playlist.head:\n",
    "            print(\"Playlist is empty. Nothing to save.\")\n",
    "            return\n",
    "\n",
    "        with open(file_name, 'w') as file:\n",
    "            current_song = playlist.head\n",
    "            while current_song:\n",
    "                file.write(f\"{current_song.title},{current_song.artist}\\n\")\n",
    "                current_song = current_song.next_song\n",
    "\n",
    "    @classmethod\n",
    "    def load_playlist(cls, file_name):\n",
    "        new_playlist = cls()\n",
    "        with open(file_name, 'r') as file:\n",
    "            for line in file:\n",
    "                title, artist = line.strip().split(',')\n",
    "                new_playlist.add_song(title, artist)\n",
    "        return new_playlist\n",
    "\n",
    "# Step 7: Create a new instance of the Playlist class named \"playlist\"\n",
    "playlist = Playlist()\n",
    "\n",
    "# Step 8: Add songs to the playlist\n",
    "playlist.add_song(\"Song 1\", \"Artist 1\")\n",
    "playlist.add_song(\"Song 2\", \"Artist 2\")\n",
    "playlist.add_song(\"Song 3\", \"Artist 3\")\n",
    "\n",
    "# Step 9: Display the playlist\n",
    "print(\"Playlist:\")\n",
    "playlist.display_playlist()\n",
    "\n",
    "# Step 10: Save the playlist to a file\n",
    "Playlist.save_playlist(\"my_playlist.txt\")\n",
    "\n",
    "# Step 11: Create a new instance of the Playlist class named \"new_playlist\" by loading from a file\n",
    "new_playlist = Playlist.load_playlist(\"my_playlist.txt\")\n",
    "\n",
    "# Step 12: Display the new playlist\n",
    "print(\"\\nNew Playlist:\")\n",
    "new_playlist.display_playlist()\n"
   ]
  },
  {
   "cell_type": "code",
   "execution_count": null,
   "id": "c0c2cabb",
   "metadata": {},
   "outputs": [],
   "source": []
  }
 ],
 "metadata": {
  "kernelspec": {
   "display_name": "Python 3 (ipykernel)",
   "language": "python",
   "name": "python3"
  },
  "language_info": {
   "codemirror_mode": {
    "name": "ipython",
    "version": 3
   },
   "file_extension": ".py",
   "mimetype": "text/x-python",
   "name": "python",
   "nbconvert_exporter": "python",
   "pygments_lexer": "ipython3",
   "version": "3.9.12"
  }
 },
 "nbformat": 4,
 "nbformat_minor": 5
}
